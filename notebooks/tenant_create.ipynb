{
 "cells": [
  {
   "cell_type": "code",
   "execution_count": null,
   "metadata": {},
   "outputs": [],
   "source": [
    "import symphony_client\n",
    "import requests"
   ]
  },
  {
   "cell_type": "code",
   "execution_count": null,
   "metadata": {},
   "outputs": [],
   "source": [
    "symp_url = \"https://<CLUSTER URL>\"\n",
    "symp_domain = \"cloud_admin\"\n",
    "symp_user = \"<admin user>\"\n",
    "symp_password = \"<admin password>\"\n",
    "symp_project = \"default\""
   ]
  },
  {
   "cell_type": "code",
   "execution_count": null,
   "metadata": {
    "scrolled": true
   },
   "outputs": [],
   "source": [
    "my_session = requests.Session()\n",
    "my_session.verify = False\n",
    "    \n",
    "client = symphony_client.Client(url=symp_url, session=my_session)\n",
    "client.login(domain=symp_domain, username=symp_user, password=symp_password,project=symp_project)"
   ]
  },
  {
   "cell_type": "code",
   "execution_count": null,
   "metadata": {},
   "outputs": [],
   "source": [
    " data = {\n",
    "     \"tenant_name\": \"test_domain\",\n",
    "     \"project_name\": \"test_proj\",\n",
    "     \"user_name\": \"test_user\",\n",
    "     \"default_password\": \"test123$\"\n",
    " }"
   ]
  },
  {
   "cell_type": "code",
   "execution_count": null,
   "metadata": {},
   "outputs": [],
   "source": [
    "domain_obj = client.domains.create(\n",
    "    name=data['tenant_name'],\n",
    "    description='tenant created by stratoscale tenant launcher'\n",
    ")"
   ]
  },
  {
   "cell_type": "code",
   "execution_count": null,
   "metadata": {},
   "outputs": [],
   "source": [
    "proj_obj = client.projects.create(\n",
    "    domain_id=domain_obj['id'],\n",
    "    name=data['project_name'],\n",
    ")"
   ]
  },
  {
   "cell_type": "code",
   "execution_count": null,
   "metadata": {},
   "outputs": [],
   "source": [
    "user_obj = client.users.create(\n",
    "    project_id=proj_obj['id'],\n",
    "    name=data['user_name'],\n",
    "    password=data['default_password'],\n",
    ")"
   ]
  },
  {
   "cell_type": "code",
   "execution_count": null,
   "metadata": {},
   "outputs": [],
   "source": [
    "client.domains.grant_role(\n",
    "    domain_id=domain_obj['id'],\n",
    "    user_id=user_obj['id'],\n",
    "    role_id='tenant_admin'\n",
    ")"
   ]
  },
  {
   "cell_type": "code",
   "execution_count": null,
   "metadata": {},
   "outputs": [],
   "source": [
    "client.projects.grant_role(\n",
    "    project_id=proj_obj['id'],\n",
    "    user_id=user_obj['id'],\n",
    "    role_id='tenant_admin'\n",
    ")"
   ]
  }
 ],
 "metadata": {
  "kernelspec": {
   "display_name": "Python 2",
   "language": "python",
   "name": "python2"
  },
  "language_info": {
   "codemirror_mode": {
    "name": "ipython",
    "version": 2
   },
   "file_extension": ".py",
   "mimetype": "text/x-python",
   "name": "python",
   "nbconvert_exporter": "python",
   "pygments_lexer": "ipython2",
   "version": "2.7.5"
  }
 },
 "nbformat": 4,
 "nbformat_minor": 2
}
